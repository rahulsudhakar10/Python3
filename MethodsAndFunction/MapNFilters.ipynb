{
 "cells": [
  {
   "cell_type": "code",
   "execution_count": 1,
   "metadata": {},
   "outputs": [],
   "source": [
    "def sqaure(num):\n",
    "    return num **2"
   ]
  },
  {
   "cell_type": "code",
   "execution_count": 3,
   "metadata": {},
   "outputs": [
    {
     "data": {
      "text/plain": [
       "[1, 4, 9, 4, 25]"
      ]
     },
     "execution_count": 3,
     "metadata": {},
     "output_type": "execute_result"
    }
   ],
   "source": [
    "my_list=[1,2,3,2,5]\n",
    "list(map(sqaure,my_list))"
   ]
  },
  {
   "cell_type": "code",
   "execution_count": 4,
   "metadata": {},
   "outputs": [
    {
     "name": "stdout",
     "output_type": "stream",
     "text": [
      "2\n",
      "4\n",
      "2\n",
      "6\n",
      "8\n"
     ]
    }
   ],
   "source": [
    "def check_even(num):\n",
    "    return num%2==0\n",
    "my_list=[1,2,4,2,5,6,8]\n",
    "for num in filter(check_even,my_list):\n",
    "    print(num)"
   ]
  },
  {
   "cell_type": "code",
   "execution_count": 7,
   "metadata": {},
   "outputs": [
    {
     "data": {
      "text/plain": [
       "[2, 4, 2, 6, 8]"
      ]
     },
     "execution_count": 7,
     "metadata": {},
     "output_type": "execute_result"
    }
   ],
   "source": [
    "x=lambda num:num%2==0\n",
    "my_list=[1,2,4,2,5,6,8]\n",
    "list(filter(x,my_list))"
   ]
  },
  {
   "cell_type": "code",
   "execution_count": 22,
   "metadata": {},
   "outputs": [
    {
     "name": "stdout",
     "output_type": "stream",
     "text": [
      "Ttal No .of upper case chacter are 4\n",
      "Total No .of lower case chacter are 25\n"
     ]
    }
   ],
   "source": [
    "\n",
    "def calculate_cases(word):\n",
    "    upper_count=0\n",
    "    lower_count=0\n",
    "    for n in word:\n",
    "        if n.isupper():\n",
    "            upper_count+= 1\n",
    "        elif n.islower():\n",
    "            lower_count+= 1\n",
    "     \n",
    "    print (f'Ttal No .of upper case chacter are {upper_count}')\n",
    "    print (f'Total No .of lower case chacter are {lower_count}')\n",
    "\n",
    "calculate_cases('Hello whats going :: NNNkhkkkgkkhkj')\n",
    "\n"
   ]
  },
  {
   "cell_type": "code",
   "execution_count": null,
   "metadata": {},
   "outputs": [],
   "source": []
  }
 ],
 "metadata": {
  "kernelspec": {
   "display_name": "Python 3",
   "language": "python",
   "name": "python3"
  },
  "language_info": {
   "codemirror_mode": {
    "name": "ipython",
    "version": 3
   },
   "file_extension": ".py",
   "mimetype": "text/x-python",
   "name": "python",
   "nbconvert_exporter": "python",
   "pygments_lexer": "ipython3",
   "version": "3.7.6"
  }
 },
 "nbformat": 4,
 "nbformat_minor": 4
}

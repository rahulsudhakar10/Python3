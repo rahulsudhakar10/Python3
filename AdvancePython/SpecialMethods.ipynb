{
 "cells": [
  {
   "cell_type": "code",
   "execution_count": 8,
   "metadata": {},
   "outputs": [],
   "source": [
    "class book():\n",
    "    \n",
    "    def __init__(self,book,author):\n",
    "        self.book=book\n",
    "        self.author=author\n",
    "     \n",
    "    #string presentation of an object\n",
    "    def __str__(self):\n",
    "        return (f'{self.book} by {self.author}')\n",
    "    \n",
    "    def __len__(self):\n",
    "         return 200\n",
    "    \n",
    "    def __del__(self):\n",
    "        return 'Object has been deleted'\n",
    "    \n",
    "    "
   ]
  },
  {
   "cell_type": "code",
   "execution_count": 9,
   "metadata": {},
   "outputs": [],
   "source": [
    "myBook= book('Self development','Steven jose')"
   ]
  },
  {
   "cell_type": "code",
   "execution_count": 4,
   "metadata": {},
   "outputs": [
    {
     "name": "stdout",
     "output_type": "stream",
     "text": [
      "Self development by Steven jose\n"
     ]
    }
   ],
   "source": [
    "#print method looks for the implemetation of strn  presentation of an obj if not present its prints address\n",
    "print(myBook)"
   ]
  },
  {
   "cell_type": "code",
   "execution_count": 10,
   "metadata": {},
   "outputs": [
    {
     "data": {
      "text/plain": [
       "200"
      ]
     },
     "execution_count": 10,
     "metadata": {},
     "output_type": "execute_result"
    }
   ],
   "source": [
    "len(myBook)"
   ]
  },
  {
   "cell_type": "code",
   "execution_count": 11,
   "metadata": {},
   "outputs": [],
   "source": [
    "#deletes a object \n",
    "del myBook"
   ]
  },
  {
   "cell_type": "code",
   "execution_count": null,
   "metadata": {},
   "outputs": [],
   "source": []
  }
 ],
 "metadata": {
  "kernelspec": {
   "display_name": "Python 3",
   "language": "python",
   "name": "python3"
  },
  "language_info": {
   "codemirror_mode": {
    "name": "ipython",
    "version": 3
   },
   "file_extension": ".py",
   "mimetype": "text/x-python",
   "name": "python",
   "nbconvert_exporter": "python",
   "pygments_lexer": "ipython3",
   "version": "3.7.6"
  }
 },
 "nbformat": 4,
 "nbformat_minor": 4
}

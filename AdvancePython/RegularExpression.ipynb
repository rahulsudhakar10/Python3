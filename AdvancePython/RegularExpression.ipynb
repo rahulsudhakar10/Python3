{
 "cells": [
  {
   "cell_type": "markdown",
   "metadata": {},
   "source": [
    "# Regular expression"
   ]
  },
  {
   "cell_type": "code",
   "execution_count": 1,
   "metadata": {},
   "outputs": [],
   "source": [
    "import re"
   ]
  },
  {
   "cell_type": "code",
   "execution_count": 10,
   "metadata": {},
   "outputs": [],
   "source": [
    "pattern=['term1','term2']"
   ]
  },
  {
   "cell_type": "code",
   "execution_count": 6,
   "metadata": {},
   "outputs": [],
   "source": [
    "text='This is to find term1 nad not the another term'"
   ]
  },
  {
   "cell_type": "code",
   "execution_count": 8,
   "metadata": {},
   "outputs": [
    {
     "name": "stdout",
     "output_type": "stream",
     "text": [
      "searching for patter\n",
      "Match found\n",
      "searching for patter\n",
      "not found\n"
     ]
    }
   ],
   "source": [
    "for patter in pattern:\n",
    "    print('searching for patter')\n",
    "    \n",
    "    if re.search(patter,text):\n",
    "        print(\"Match found\")\n",
    "    else:\n",
    "        print(\"not found\")"
   ]
  },
  {
   "cell_type": "code",
   "execution_count": 11,
   "metadata": {},
   "outputs": [],
   "source": [
    "match = re.search(pattern[0],text)"
   ]
  },
  {
   "cell_type": "code",
   "execution_count": 12,
   "metadata": {},
   "outputs": [
    {
     "data": {
      "text/plain": [
       "16"
      ]
     },
     "execution_count": 12,
     "metadata": {},
     "output_type": "execute_result"
    }
   ],
   "source": [
    "#Its where it start matching the text\n",
    "match.start()"
   ]
  },
  {
   "cell_type": "code",
   "execution_count": 13,
   "metadata": {},
   "outputs": [
    {
     "data": {
      "text/plain": [
       "21"
      ]
     },
     "execution_count": 13,
     "metadata": {},
     "output_type": "execute_result"
    }
   ],
   "source": [
    "#Its where it end matching the text\n",
    "match.end()"
   ]
  },
  {
   "cell_type": "code",
   "execution_count": 14,
   "metadata": {},
   "outputs": [],
   "source": [
    "split_term='@'"
   ]
  },
  {
   "cell_type": "code",
   "execution_count": 15,
   "metadata": {},
   "outputs": [],
   "source": [
    "text='what is u r email address for rahul@gmail.com'"
   ]
  },
  {
   "cell_type": "code",
   "execution_count": 16,
   "metadata": {},
   "outputs": [
    {
     "data": {
      "text/plain": [
       "['what is u r email address for rahul', 'gmail.com']"
      ]
     },
     "execution_count": 16,
     "metadata": {},
     "output_type": "execute_result"
    }
   ],
   "source": [
    "re.split(split_term,text)"
   ]
  },
  {
   "cell_type": "code",
   "execution_count": 17,
   "metadata": {},
   "outputs": [
    {
     "data": {
      "text/plain": [
       "['word', 'word']"
      ]
     },
     "execution_count": 17,
     "metadata": {},
     "output_type": "execute_result"
    }
   ],
   "source": [
    "re.findall('word','word is learnt and has been written an another word')"
   ]
  },
  {
   "cell_type": "code",
   "execution_count": 19,
   "metadata": {},
   "outputs": [
    {
     "name": "stdout",
     "output_type": "stream",
     "text": [
      "\n",
      "\n",
      "['sd', 'sd', 's', 's', 's', 'sdddd', 'sdd', 'sddd', 'sd', 's', 's', 's', 's', 's', 'sdddd']\n",
      "\n",
      "\n",
      "['sd', 'sd', 'sdddd', 'sdd', 'sddd', 'sd', 'sdddd']\n",
      "\n",
      "\n",
      "['sd', 'sd', 's', 's', 's', 'sd', 'sd', 'sd', 'sd', 's', 's', 's', 's', 's', 'sd']\n",
      "\n",
      "\n",
      "['sddd', 'sddd', 'sddd']\n",
      "\n",
      "\n",
      "['sddd', 'sdd', 'sddd', 'sddd']\n"
     ]
    }
   ],
   "source": [
    "#regular expression\n",
    "test_phrase='sdsd...ssssdddd...sddsddd...dsds..dssss..sdddd'\n",
    "\n",
    "test_phares=['sd*',        #follwed by 0 aur more ds\n",
    "             'sd+',        #follwed by 1 or more ds\n",
    "             'sd?',        #follwed by 0 or 1 ds\n",
    "             'sd{3}',        #follwed by 3 ds\n",
    "             'sd{2,3}'       #follwed by 2 s and 3 ds   \n",
    "]\n",
    "for phares in test_phares:\n",
    "    print('\\n')\n",
    "    print(re.findall(phares,test_phrase))"
   ]
  },
  {
   "cell_type": "markdown",
   "metadata": {},
   "source": [
    "# Character set"
   ]
  },
  {
   "cell_type": "code",
   "execution_count": 20,
   "metadata": {},
   "outputs": [
    {
     "name": "stdout",
     "output_type": "stream",
     "text": [
      "\n",
      "\n",
      "['s', 'd', 's', 'd', 's', 's', 's', 's', 'd', 'd', 'd', 'd', 's', 'd', 'd', 's', 'd', 'd', 'd', 'd', 's', 'd', 's', 'd', 's', 's', 's', 's', 's', 'd', 'd', 'd', 'd']\n",
      "\n",
      "\n",
      "['sdsd', 'ssssdddd', 'sddsddd', 'sds', 'ssss', 'sdddd']\n"
     ]
    }
   ],
   "source": [
    "test_phrase='sdsd...ssssdddd...sddsddd...dsds..dssss..sdddd'\n",
    "\n",
    "test_phares=['[sd]',        #either s or d\n",
    "             's[sd]+'      # s follwed by s or d\n",
    "            ]\n",
    "for phares in test_phares:\n",
    "    print('\\n')\n",
    "    print(re.findall(phares,test_phrase))"
   ]
  },
  {
   "cell_type": "markdown",
   "metadata": {},
   "source": [
    "# Exclusion"
   ]
  },
  {
   "cell_type": "code",
   "execution_count": 30,
   "metadata": {},
   "outputs": [
    {
     "name": "stdout",
     "output_type": "stream",
     "text": [
      "['Their', 'is', 'a', 'string', 'which', 'has', 'a', 'mark', 'we', 'have', 'to', 'remove', 'it']\n"
     ]
    }
   ],
   "source": [
    "test_phrase='Their is a string which has a ! mark we have ..to remove it?'\n",
    "print(re.findall('[^!?. ]+',test_phrase))"
   ]
  },
  {
   "cell_type": "markdown",
   "metadata": {},
   "source": [
    "# String  io"
   ]
  },
  {
   "cell_type": "code",
   "execution_count": 32,
   "metadata": {},
   "outputs": [
    {
     "ename": "ModuleNotFoundError",
     "evalue": "No module named 'stringIO'",
     "output_type": "error",
     "traceback": [
      "\u001b[1;31m---------------------------------------------------------------------------\u001b[0m",
      "\u001b[1;31mModuleNotFoundError\u001b[0m                       Traceback (most recent call last)",
      "\u001b[1;32m<ipython-input-32-c33a72e74353>\u001b[0m in \u001b[0;36m<module>\u001b[1;34m\u001b[0m\n\u001b[1;32m----> 1\u001b[1;33m \u001b[1;32mimport\u001b[0m \u001b[0mstringIO\u001b[0m\u001b[1;33m\u001b[0m\u001b[1;33m\u001b[0m\u001b[0m\n\u001b[0m",
      "\u001b[1;31mModuleNotFoundError\u001b[0m: No module named 'stringIO'"
     ]
    }
   ],
   "source": []
  },
  {
   "cell_type": "code",
   "execution_count": null,
   "metadata": {},
   "outputs": [],
   "source": []
  }
 ],
 "metadata": {
  "kernelspec": {
   "display_name": "Python 3",
   "language": "python",
   "name": "python3"
  },
  "language_info": {
   "codemirror_mode": {
    "name": "ipython",
    "version": 3
   },
   "file_extension": ".py",
   "mimetype": "text/x-python",
   "name": "python",
   "nbconvert_exporter": "python",
   "pygments_lexer": "ipython3",
   "version": "3.7.6"
  }
 },
 "nbformat": 4,
 "nbformat_minor": 4
}

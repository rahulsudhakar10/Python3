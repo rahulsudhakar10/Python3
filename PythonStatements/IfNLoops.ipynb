{
 "cells": [
  {
   "cell_type": "code",
   "execution_count": 4,
   "metadata": {},
   "outputs": [
    {
     "name": "stdout",
     "output_type": "stream",
     "text": [
      "rahul false\n"
     ]
    }
   ],
   "source": [
    "hungry =\"rahul\"\n",
    "\n",
    "if hungry == \"rahul\":\n",
    "    print(\"rahul\")\n",
    "else:\n",
    "    print(\"rahul false\")"
   ]
  },
  {
   "cell_type": "code",
   "execution_count": 6,
   "metadata": {},
   "outputs": [
    {
     "name": "stdout",
     "output_type": "stream",
     "text": [
      "Money is cool\n"
     ]
    }
   ],
   "source": [
    "loc =\"Bank\"\n",
    "if loc == \"Auto shop\":\n",
    "    print(\"Do is serving\")\n",
    "elif loc == \"Bank\":\n",
    "     print(\"Money is cool\")\n",
    "else:\n",
    "     print(\"Money is not cool\")"
   ]
  },
  {
   "cell_type": "code",
   "execution_count": 8,
   "metadata": {},
   "outputs": [],
   "source": [
    "mylist=[1,2,3,5,6,7,7,8,9,10]\n"
   ]
  },
  {
   "cell_type": "code",
   "execution_count": 10,
   "metadata": {},
   "outputs": [],
   "source": [
    "myset= set(mylist)"
   ]
  },
  {
   "cell_type": "code",
   "execution_count": 12,
   "metadata": {},
   "outputs": [
    {
     "name": "stdout",
     "output_type": "stream",
     "text": [
      "Odd number is 1\n",
      "Even number is 2\n",
      "Odd number is 3\n",
      "Odd number is 5\n",
      "Even number is 6\n",
      "Odd number is 7\n",
      "Even number is 8\n",
      "Odd number is 9\n",
      "Even number is 10\n"
     ]
    }
   ],
   "source": [
    "for num in myset:\n",
    "    if num % 2 == 0:\n",
    "        print(f\"Even number is {num}\")\n",
    "    else:\n",
    "        print(f\"Odd number is {num}\")"
   ]
  },
  {
   "cell_type": "code",
   "execution_count": 13,
   "metadata": {},
   "outputs": [],
   "source": [
    "mylistTuple = [(1,2),(3,4),(5,6)]"
   ]
  },
  {
   "cell_type": "code",
   "execution_count": 15,
   "metadata": {},
   "outputs": [
    {
     "name": "stdout",
     "output_type": "stream",
     "text": [
      "1\n",
      "3\n",
      "5\n"
     ]
    }
   ],
   "source": [
    "for (a,b) in mylistTuple:\n",
    "    print(a)"
   ]
  },
  {
   "cell_type": "code",
   "execution_count": 16,
   "metadata": {},
   "outputs": [],
   "source": [
    "myDic = {'key1':200,'key2':300,'key3':800}"
   ]
  },
  {
   "cell_type": "code",
   "execution_count": 28,
   "metadata": {},
   "outputs": [
    {
     "name": "stdout",
     "output_type": "stream",
     "text": [
      "Value of dictionary is 200\n"
     ]
    }
   ],
   "source": [
    "for value in myDic.values():\n",
    "    if value == 300:\n",
    "        break\n",
    "    print(f'Value of dictionary is {value}') "
   ]
  },
  {
   "cell_type": "code",
   "execution_count": 22,
   "metadata": {},
   "outputs": [
    {
     "name": "stdout",
     "output_type": "stream",
     "text": [
      "Value of x is 0\n",
      "Value of x is 1\n",
      "Value of x is 2\n",
      "Value of x is 3\n",
      "Value of x is 4\n"
     ]
    }
   ],
   "source": [
    "x = 0\n",
    "while x < 5:\n",
    "    print(f'Value of x is {x}')\n",
    "    x +=1\n",
    "else:\n",
    "    print(f'Value f x is {x}')"
   ]
  },
  {
   "cell_type": "code",
   "execution_count": null,
   "metadata": {},
   "outputs": [],
   "source": []
  }
 ],
 "metadata": {
  "kernelspec": {
   "display_name": "Python 3",
   "language": "python",
   "name": "python3"
  },
  "language_info": {
   "codemirror_mode": {
    "name": "ipython",
    "version": 3
   },
   "file_extension": ".py",
   "mimetype": "text/x-python",
   "name": "python",
   "nbconvert_exporter": "python",
   "pygments_lexer": "ipython3",
   "version": "3.7.6"
  }
 },
 "nbformat": 4,
 "nbformat_minor": 4
}

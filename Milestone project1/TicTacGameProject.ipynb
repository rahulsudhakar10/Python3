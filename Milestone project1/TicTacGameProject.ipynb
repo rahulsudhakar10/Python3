{
 "cells": [
  {
   "cell_type": "markdown",
   "metadata": {},
   "source": [
    "Step 1:To print a board "
   ]
  },
  {
   "cell_type": "code",
   "execution_count": null,
   "metadata": {},
   "outputs": [],
   "source": [
    "from IPython.display import clear_output\n",
    "\n",
    "def print_board(board):\n",
    "    clear_output()\n",
    "    print(board[1]+'|'+board[2]+'|'+board[3])\n",
    "    print('------')\n",
    "    print(board[4]+'|'+board[5]+'|'+board[6])\n",
    "    print('------')\n",
    "    print(board[7]+'|'+board[8]+'|'+board[9])\n",
    "    "
   ]
  },
  {
   "cell_type": "markdown",
   "metadata": {},
   "source": [
    "Step 2:To take input from the user for game"
   ]
  },
  {
   "cell_type": "code",
   "execution_count": 2,
   "metadata": {},
   "outputs": [],
   "source": [
    "def player_input():\n",
    "   \n",
    "    maker = ''\n",
    "    while maker!='X'  and maker!='O':\n",
    "        maker = input('Please enter X or O:').upper()\n",
    "    \n",
    "    player1 = maker\n",
    "    if player1 == 'X':\n",
    "        player2 = 'O'\n",
    "    else:\n",
    "        player2 = 'X'\n",
    "        \n",
    "    return (player1,player2)     "
   ]
  },
  {
   "cell_type": "markdown",
   "metadata": {},
   "source": []
  },
  {
   "cell_type": "markdown",
   "metadata": {},
   "source": [
    " Step 3:Assign the value and place it to the board"
   ]
  },
  {
   "cell_type": "code",
   "execution_count": 3,
   "metadata": {},
   "outputs": [],
   "source": [
    "def place_maker(test_board,maker,poistion):\n",
    "    test_board[poistion]= maker\n",
    "\n"
   ]
  },
  {
   "cell_type": "markdown",
   "metadata": {},
   "source": [
    "step 4:Wining the game condition"
   ]
  },
  {
   "cell_type": "code",
   "execution_count": 4,
   "metadata": {},
   "outputs": [],
   "source": [
    "def game_wining(board,maker):\n",
    "    #win tic tac check all rows and all columns and dailone columns\n",
    "    return((board[1]==maker and board[2]==maker and board[3]==maker) or\n",
    "    (board[4]==maker and board[5]==maker and board[6]==maker) or\n",
    "    (board[7]==maker and board[8]==maker and board[9]==maker) or\n",
    "    (board[1]==maker and board[4]==maker and board[7]==maker) or\n",
    "    (board[2]==maker and board[5]==maker and board[8]==maker) or\n",
    "    (board[3]==maker and board[6]==maker and board[9]==maker) or\n",
    "    (board[1]==maker and board[5]==maker and board[9]==maker) or\n",
    "    (board[7]==maker and board[5]==maker and board[3]==maker) )"
   ]
  },
  {
   "cell_type": "markdown",
   "metadata": {},
   "source": [
    "Step 5:To see which player goes first"
   ]
  },
  {
   "cell_type": "code",
   "execution_count": 5,
   "metadata": {},
   "outputs": [],
   "source": [
    "import random\n",
    "def choose_first():\n",
    "    flip = random.randint(0,1)\n",
    "    if flip == 0:\n",
    "        return 'Player1'\n",
    "    else:\n",
    "        return 'Player2'\n",
    "    "
   ]
  },
  {
   "cell_type": "markdown",
   "metadata": {},
   "source": [
    "Step 6: see wheather their is free space or not"
   ]
  },
  {
   "cell_type": "code",
   "execution_count": 6,
   "metadata": {},
   "outputs": [],
   "source": [
    "def space_check(board,poistion):\n",
    "    return board[poistion] == ' '\n",
    "    "
   ]
  },
  {
   "cell_type": "markdown",
   "metadata": {},
   "source": [
    "Step 7:Check wheather board is full "
   ]
  },
  {
   "cell_type": "code",
   "execution_count": 7,
   "metadata": {},
   "outputs": [],
   "source": [
    "def full_board(board):\n",
    "    for i in range(1,10):\n",
    "        space_check(board,i)\n",
    "        return False\n",
    "    return True"
   ]
  },
  {
   "cell_type": "markdown",
   "metadata": {},
   "source": [
    "Step 8:To check wheather a player poistion no(1-9)"
   ]
  },
  {
   "cell_type": "code",
   "execution_count": 8,
   "metadata": {},
   "outputs": [],
   "source": [
    "def player_choice(board):\n",
    "    poistion = 0\n",
    "    while poistion not in [1,2,3,4,5,6,7,8,9] and not space_check(board,poistion):\n",
    "        poistion = int(input('Please enter poistion between 1-9:'))\n",
    "        \n",
    "    return poistion    "
   ]
  },
  {
   "cell_type": "markdown",
   "metadata": {},
   "source": [
    "Step 9: Check ask to player to play again"
   ]
  },
  {
   "cell_type": "code",
   "execution_count": 9,
   "metadata": {},
   "outputs": [],
   "source": [
    "def play_again():\n",
    "    choose = input('Play again? Yes or No')\n",
    "    \n",
    "    return choose == 'Yes'"
   ]
  },
  {
   "cell_type": "markdown",
   "metadata": {},
   "source": [
    "Step 10:Use function to make the program run"
   ]
  },
  {
   "cell_type": "code",
   "execution_count": null,
   "metadata": {},
   "outputs": [
    {
     "name": "stdout",
     "output_type": "stream",
     "text": [
      "X|O|X\n",
      "------\n",
      "O|O|X\n",
      "------\n",
      "X|O|\n",
      "Player1 has won the game!!\n",
      "Play again? Yes or NoYes\n"
     ]
    }
   ],
   "source": [
    "print('Welcome to tic tac toe')\n",
    "\n",
    "#loop to play the again\n",
    "while True:\n",
    "        the_board=['']*10\n",
    "        player1,player2 = player_input()\n",
    "        turn = choose_first()\n",
    "        print(turn +' will go first')\n",
    "        \n",
    "        playGame = input(\"Wanna play game ?: 'y' for yes and 'n' for no\")\n",
    "        if playGame == 'y':\n",
    "            game_on=True\n",
    "        else:\n",
    "            game_on= False\n",
    "            \n",
    "        while game_on:\n",
    "            if turn == 'Player 1':\n",
    "                #Displaying board\n",
    "                print_board(the_board)\n",
    "                #Chosse Poistion \n",
    "                poistion= player_choice(the_board)\n",
    "                #Place maker on the board at given poistion\n",
    "                place_maker(the_board,player1,poistion)\n",
    "                if game_wining(the_board,player1):\n",
    "                            print_board(the_board)\n",
    "                            print('Player1 has won the game!!')\n",
    "                            game_on = False\n",
    "                else:\n",
    "                        if full_board(the_board):\n",
    "                            print_board(the_board)\n",
    "                            print('Tie Game')\n",
    "                            game_on= False\n",
    "                        else:\n",
    "                            turn='Player 2'\n",
    "                            \n",
    "            else:\n",
    "                #Displaying board\n",
    "                print_board(the_board)\n",
    "                #Chosse Poistion \n",
    "                poistion = player_choice(the_board)\n",
    "                #Place maker on the board at given poistion\n",
    "                place_maker(the_board,player2,poistion)\n",
    "                if game_wining(the_board,player2):\n",
    "                            print_board(the_board)\n",
    "                            print('Player 2 has won the game!!')\n",
    "                            \n",
    "                            \n",
    "                            game_on = False\n",
    "                else:\n",
    "                        if full_board(the_board):\n",
    "                            print_board(the_board)\n",
    "                            print('Tie Game')\n",
    "                            game_on= False\n",
    "                        else:\n",
    "                            turn='Player 1'\n",
    "                \n",
    "\n",
    "     \n",
    "        \n",
    "        if not play_again():\n",
    "            break"
   ]
  },
  {
   "cell_type": "code",
   "execution_count": null,
   "metadata": {},
   "outputs": [],
   "source": []
  }
 ],
 "metadata": {
  "kernelspec": {
   "display_name": "Python 3",
   "language": "python",
   "name": "python3"
  },
  "language_info": {
   "codemirror_mode": {
    "name": "ipython",
    "version": 3
   },
   "file_extension": ".py",
   "mimetype": "text/x-python",
   "name": "python",
   "nbconvert_exporter": "python",
   "pygments_lexer": "ipython3",
   "version": "3.7.6"
  }
 },
 "nbformat": 4,
 "nbformat_minor": 4
}

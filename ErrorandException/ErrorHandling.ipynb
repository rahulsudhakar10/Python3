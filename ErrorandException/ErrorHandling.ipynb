{
 "cells": [
  {
   "cell_type": "code",
   "execution_count": 2,
   "metadata": {},
   "outputs": [],
   "source": [
    "def add(num1,num2):\n",
    "    return num1+num2"
   ]
  },
  {
   "cell_type": "code",
   "execution_count": 5,
   "metadata": {},
   "outputs": [
    {
     "name": "stdout",
     "output_type": "stream",
     "text": [
      "Data type mismatch\n"
     ]
    }
   ],
   "source": [
    "try:\n",
    "    result = add(5,'strin')\n",
    "except:\n",
    "    print('Data type mismatch')\n",
    "else:\n",
    "    print(result)"
   ]
  },
  {
   "cell_type": "code",
   "execution_count": 7,
   "metadata": {},
   "outputs": [
    {
     "name": "stdout",
     "output_type": "stream",
     "text": [
      "u have a error\n",
      "always prints \n"
     ]
    }
   ],
   "source": [
    "try:\n",
    "    f = open('testfile','r')\n",
    "    f.write('write a code')\n",
    "except OSError:\n",
    "    print('u have a error')\n",
    "finally:\n",
    "    print('always prints ')"
   ]
  },
  {
   "cell_type": "code",
   "execution_count": 8,
   "metadata": {},
   "outputs": [],
   "source": [
    "def ask_a_number():\n",
    "    while True:\n",
    "        try:\n",
    "            num = int(input('please provide a number'))\n",
    "        except:\n",
    "            print('Woops wrong input')\n",
    "            continue\n",
    "        else:\n",
    "            print('thank you')\n",
    "            break\n",
    "        finally:\n",
    "            print('end of the satement')"
   ]
  },
  {
   "cell_type": "code",
   "execution_count": null,
   "metadata": {},
   "outputs": [
    {
     "name": "stdout",
     "output_type": "stream",
     "text": [
      "please provide a numbereeee\n",
      "Woops wrong input\n",
      "end of the satement\n"
     ]
    }
   ],
   "source": [
    "ask_a_number()"
   ]
  },
  {
   "cell_type": "code",
   "execution_count": null,
   "metadata": {},
   "outputs": [],
   "source": []
  }
 ],
 "metadata": {
  "kernelspec": {
   "display_name": "Python 3",
   "language": "python",
   "name": "python3"
  },
  "language_info": {
   "codemirror_mode": {
    "name": "ipython",
    "version": 3
   },
   "file_extension": ".py",
   "mimetype": "text/x-python",
   "name": "python",
   "nbconvert_exporter": "python",
   "pygments_lexer": "ipython3",
   "version": "3.7.6"
  }
 },
 "nbformat": 4,
 "nbformat_minor": 4
}
